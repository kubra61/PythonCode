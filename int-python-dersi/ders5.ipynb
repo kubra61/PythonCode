{
 "cells": [
  {
   "cell_type": "code",
   "execution_count": 3,
   "metadata": {},
   "outputs": [
    {
     "name": "stdout",
     "output_type": "stream",
     "text": [
      " Volume in drive C has no label.\n",
      " Volume Serial Number is 4249-5A08\n",
      "\n",
      " Directory of c:\\Users\\kosek\\Desktop\\int-python-dersi\n",
      "\n",
      "24.08.2023  12:06    <DIR>          .\n",
      "24.08.2023  12:06    <DIR>          ..\n",
      "14.07.2023  20:39            15.259 ders1.ipynb\n",
      "31.07.2023  13:43             9.141 ders2.ipynb\n",
      "01.08.2023  20:44             2.409 ders3.ipynb\n",
      "24.08.2023  10:33            10.896 ders4.ipynb\n",
      "24.08.2023  12:09             1.148 ders5.ipynb\n",
      "18.07.2023  20:33            11.992 tekrar.ipynb\n",
      "               6 File(s)         50.845 bytes\n",
      "               2 Dir(s)  915.157.528.576 bytes free\n"
     ]
    }
   ],
   "source": [
    "%ls"
   ]
  },
  {
   "cell_type": "code",
   "execution_count": 4,
   "metadata": {},
   "outputs": [
    {
     "data": {
      "text/plain": [
       "'c:\\\\Users\\\\kosek\\\\Desktop\\\\int-python-dersi'"
      ]
     },
     "execution_count": 4,
     "metadata": {},
     "output_type": "execute_result"
    }
   ],
   "source": [
    "%pwd"
   ]
  },
  {
   "cell_type": "markdown",
   "metadata": {},
   "source": [
    "# OS modülü"
   ]
  },
  {
   "cell_type": "code",
   "execution_count": 5,
   "metadata": {},
   "outputs": [],
   "source": [
    "import os"
   ]
  },
  {
   "cell_type": "code",
   "execution_count": 6,
   "metadata": {},
   "outputs": [
    {
     "data": {
      "text/plain": [
       "'c:\\\\Users\\\\kosek\\\\Desktop\\\\int-python-dersi'"
      ]
     },
     "execution_count": 6,
     "metadata": {},
     "output_type": "execute_result"
    }
   ],
   "source": [
    "os.getcwd()"
   ]
  },
  {
   "cell_type": "code",
   "execution_count": 7,
   "metadata": {},
   "outputs": [
    {
     "data": {
      "text/plain": [
       "['ders1.ipynb',\n",
       " 'ders2.ipynb',\n",
       " 'ders3.ipynb',\n",
       " 'ders4.ipynb',\n",
       " 'ders5.ipynb',\n",
       " 'tekrar.ipynb']"
      ]
     },
     "execution_count": 7,
     "metadata": {},
     "output_type": "execute_result"
    }
   ],
   "source": [
    "os.listdir()"
   ]
  },
  {
   "cell_type": "code",
   "execution_count": 8,
   "metadata": {},
   "outputs": [
    {
     "data": {
      "text/plain": [
       "['All Users', 'Default', 'Default User', 'desktop.ini', 'kosek', 'Public']"
      ]
     },
     "execution_count": 8,
     "metadata": {},
     "output_type": "execute_result"
    }
   ],
   "source": [
    "os.listdir(\"c:\\\\Users\")"
   ]
  },
  {
   "cell_type": "code",
   "execution_count": 9,
   "metadata": {},
   "outputs": [],
   "source": [
    "os.chdir(\"c:\\\\Users\")"
   ]
  },
  {
   "cell_type": "code",
   "execution_count": 10,
   "metadata": {},
   "outputs": [
    {
     "data": {
      "text/plain": [
       "['All Users', 'Default', 'Default User', 'desktop.ini', 'kosek', 'Public']"
      ]
     },
     "execution_count": 10,
     "metadata": {},
     "output_type": "execute_result"
    }
   ],
   "source": [
    "os.listdir()"
   ]
  },
  {
   "cell_type": "code",
   "execution_count": 11,
   "metadata": {},
   "outputs": [],
   "source": [
    "os.chdir('c:\\\\Users\\\\kosek\\\\Desktop\\\\int-python-dersi')"
   ]
  },
  {
   "cell_type": "code",
   "execution_count": 12,
   "metadata": {},
   "outputs": [],
   "source": [
    "os.mkdir('c:\\\\Users\\\\kosek\\\\Desktop\\\\int-python-dersi\\\\deneme_klasörü')"
   ]
  },
  {
   "cell_type": "code",
   "execution_count": 13,
   "metadata": {},
   "outputs": [
    {
     "data": {
      "text/plain": [
       "['deneme_klasörü',\n",
       " 'ders1.ipynb',\n",
       " 'ders2.ipynb',\n",
       " 'ders3.ipynb',\n",
       " 'ders4.ipynb',\n",
       " 'ders5.ipynb',\n",
       " 'tekrar.ipynb']"
      ]
     },
     "execution_count": 13,
     "metadata": {},
     "output_type": "execute_result"
    }
   ],
   "source": [
    "os.listdir()"
   ]
  },
  {
   "cell_type": "code",
   "execution_count": 14,
   "metadata": {},
   "outputs": [],
   "source": [
    "os.rmdir('c:\\\\Users\\\\kosek\\\\Desktop\\\\int-python-dersi\\\\deneme_klasörü')"
   ]
  },
  {
   "cell_type": "code",
   "execution_count": 15,
   "metadata": {},
   "outputs": [
    {
     "data": {
      "text/plain": [
       "['ders1.ipynb',\n",
       " 'ders2.ipynb',\n",
       " 'ders3.ipynb',\n",
       " 'ders4.ipynb',\n",
       " 'ders5.ipynb',\n",
       " 'tekrar.ipynb']"
      ]
     },
     "execution_count": 15,
     "metadata": {},
     "output_type": "execute_result"
    }
   ],
   "source": [
    "os.listdir()"
   ]
  },
  {
   "cell_type": "code",
   "execution_count": 16,
   "metadata": {},
   "outputs": [],
   "source": [
    "yeni_dosya=os.open(\"yeni_dosya.txt\",os.O_RDWR|os.O_CREAT)\n",
    "os.write(yeni_dosya,\"merhaba dunya!\".encode())\n",
    "os.close(yeni_dosya)"
   ]
  },
  {
   "cell_type": "code",
   "execution_count": 19,
   "metadata": {},
   "outputs": [
    {
     "name": "stdout",
     "output_type": "stream",
     "text": [
      "merhaba dunya!\n"
     ]
    }
   ],
   "source": [
    "yeni_dosya=os.open(\"yeni_dosya.txt\",os.O_RDONLY)\n",
    "uzunluk=os.stat(yeni_dosya).st_size\n",
    "icerik=os.read(yeni_dosya,uzunluk)\n",
    "print(icerik.decode())\n",
    "os.close(yeni_dosya)"
   ]
  },
  {
   "cell_type": "code",
   "execution_count": null,
   "metadata": {},
   "outputs": [],
   "source": []
  },
  {
   "cell_type": "code",
   "execution_count": null,
   "metadata": {},
   "outputs": [],
   "source": []
  },
  {
   "cell_type": "code",
   "execution_count": null,
   "metadata": {},
   "outputs": [],
   "source": []
  },
  {
   "cell_type": "code",
   "execution_count": null,
   "metadata": {},
   "outputs": [],
   "source": []
  }
 ],
 "metadata": {
  "kernelspec": {
   "display_name": "Python 3",
   "language": "python",
   "name": "python3"
  },
  "language_info": {
   "codemirror_mode": {
    "name": "ipython",
    "version": 3
   },
   "file_extension": ".py",
   "mimetype": "text/x-python",
   "name": "python",
   "nbconvert_exporter": "python",
   "pygments_lexer": "ipython3",
   "version": "3.11.3"
  },
  "orig_nbformat": 4
 },
 "nbformat": 4,
 "nbformat_minor": 2
}
