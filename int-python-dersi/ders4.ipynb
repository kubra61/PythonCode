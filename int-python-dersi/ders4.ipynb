{
 "cells": [
  {
   "cell_type": "markdown",
   "metadata": {},
   "source": [
    "# claslar(oop)"
   ]
  },
  {
   "cell_type": "code",
   "execution_count": 2,
   "metadata": {},
   "outputs": [],
   "source": [
    "class Ucus():\n",
    "    havayolu=\"THY\""
   ]
  },
  {
   "cell_type": "code",
   "execution_count": 3,
   "metadata": {},
   "outputs": [],
   "source": [
    "ucus1=Ucus()"
   ]
  },
  {
   "cell_type": "code",
   "execution_count": 4,
   "metadata": {},
   "outputs": [
    {
     "data": {
      "text/plain": [
       "'THY'"
      ]
     },
     "execution_count": 4,
     "metadata": {},
     "output_type": "execute_result"
    }
   ],
   "source": [
    "ucus1.havayolu"
   ]
  },
  {
   "cell_type": "code",
   "execution_count": 5,
   "metadata": {},
   "outputs": [],
   "source": [
    "class Ucus():\n",
    "    havayolu=\"THY\"\n",
    "\n",
    "    def __init__(self,kod,kalkis,varis,sure,kapasite,yolcu):\n",
    "        self.kod=kod\n",
    "        self.kalkis=kalkis\n",
    "        self.varis=varis\n",
    "        self.sure=sure\n",
    "        self.kapasite=kapasite\n",
    "        self.yolcu=yolcu"
   ]
  },
  {
   "cell_type": "code",
   "execution_count": 8,
   "metadata": {},
   "outputs": [],
   "source": [
    "ucus2=Ucus(\"TK123\",\"ist\",\"ank\",60,300,50)"
   ]
  },
  {
   "cell_type": "code",
   "execution_count": 12,
   "metadata": {},
   "outputs": [
    {
     "data": {
      "text/plain": [
       "'ist'"
      ]
     },
     "execution_count": 12,
     "metadata": {},
     "output_type": "execute_result"
    }
   ],
   "source": [
    "ucus2.kalkis"
   ]
  },
  {
   "cell_type": "code",
   "execution_count": 13,
   "metadata": {},
   "outputs": [],
   "source": [
    "class Ucus():\n",
    "    havayolu=\"THY\"\n",
    "\n",
    "    def __init__(self,kod,kalkis,varis,sure,kapasite,yolcu):\n",
    "        self.kod=kod\n",
    "        self.kalkis=kalkis\n",
    "        self.varis=varis\n",
    "        self.sure=sure\n",
    "        self.kapasite=kapasite\n",
    "        self.yolcu=yolcu\n",
    "\n",
    "    def anonsyap(self):\n",
    "        return f\"{self.kod} sefer sayili {self.kalkis}--{self.varis} uçuşumuz {self.sure} dakika sürecektir.\"    "
   ]
  },
  {
   "cell_type": "code",
   "execution_count": 14,
   "metadata": {},
   "outputs": [],
   "source": [
    "ucus3=Ucus(\"TK223\",\"BOD\",\"MUĞ\",40,250,50)"
   ]
  },
  {
   "cell_type": "code",
   "execution_count": 15,
   "metadata": {},
   "outputs": [
    {
     "data": {
      "text/plain": [
       "'TK223 sefer sayili BOD--MUĞ uçuşumuz 40 dakika sürecektir.'"
      ]
     },
     "execution_count": 15,
     "metadata": {},
     "output_type": "execute_result"
    }
   ],
   "source": [
    "ucus3.anonsyap()"
   ]
  },
  {
   "cell_type": "code",
   "execution_count": 1,
   "metadata": {},
   "outputs": [],
   "source": [
    "class Ucus():\n",
    "    havayolu=\"THY\"\n",
    "\n",
    "    def __init__(self,kod,kalkis,varis,sure,kapasite,yolcu):\n",
    "        self.kod=kod\n",
    "        self.kalkis=kalkis\n",
    "        self.varis=varis\n",
    "        self.sure=sure\n",
    "        self.kapasite=kapasite\n",
    "        self.yolcu=yolcu\n",
    "\n",
    "    def anonsyap(self):\n",
    "        return f\"{self.kod} sefer sayili {self.kalkis}--{self.varis} uçuşumuz {self.sure} dakika sürecektir.\" \n",
    "\n",
    "    def koltuk_sayisi_güncelle(self):\n",
    "        return self.kapasite - self.yolcu\n",
    "    \n",
    "    def bilet_satişi(self,bilet_adeti=1):\n",
    "        self.yolcu +=bilet_adeti\n",
    "        self.koltuk_sayisi_güncelle()\n",
    "        return print(f\"{bilet_adeti} adet bilet satilmiştir{self.koltuk_sayisi_güncelle()} adet koltuk kalmistir\")"
   ]
  },
  {
   "cell_type": "code",
   "execution_count": 11,
   "metadata": {},
   "outputs": [],
   "source": [
    "ucus3=Ucus(\"TK223\",\"BOD\",\"MUĞ\",40,250,50)"
   ]
  },
  {
   "cell_type": "code",
   "execution_count": 3,
   "metadata": {},
   "outputs": [
    {
     "data": {
      "text/plain": [
       "200"
      ]
     },
     "execution_count": 3,
     "metadata": {},
     "output_type": "execute_result"
    }
   ],
   "source": [
    "ucus3.koltuk_sayisi_güncelle()"
   ]
  },
  {
   "cell_type": "code",
   "execution_count": 18,
   "metadata": {},
   "outputs": [
    {
     "name": "stdout",
     "output_type": "stream",
     "text": [
      "5 adet bilet satilmiştir<bound method Ucus.koltuk_sayisi_güncelle of <__main__.Ucus object at 0x000001EF6928EDD0>> adet koltuk kalmistir\n"
     ]
    }
   ],
   "source": [
    "ucus3.bilet_satişi(5)"
   ]
  },
  {
   "cell_type": "code",
   "execution_count": 2,
   "metadata": {},
   "outputs": [],
   "source": [
    "ucus3=Ucus(\"TK223\",\"BOD\",\"MUĞ\",40,250,50)"
   ]
  },
  {
   "cell_type": "code",
   "execution_count": 5,
   "metadata": {},
   "outputs": [
    {
     "data": {
      "text/plain": [
       "['kod',\n",
       " 'kalkis',\n",
       " 'varis',\n",
       " 'sure',\n",
       " 'kapasite',\n",
       " 'yolcu',\n",
       " '__module__',\n",
       " 'havayolu',\n",
       " '__init__',\n",
       " 'anonsyap',\n",
       " 'koltuk_sayisi_güncelle',\n",
       " 'bilet_satişi',\n",
       " '__dict__',\n",
       " '__weakref__',\n",
       " '__doc__',\n",
       " '__new__',\n",
       " '__repr__',\n",
       " '__hash__',\n",
       " '__str__',\n",
       " '__getattribute__',\n",
       " '__setattr__',\n",
       " '__delattr__',\n",
       " '__lt__',\n",
       " '__le__',\n",
       " '__eq__',\n",
       " '__ne__',\n",
       " '__gt__',\n",
       " '__ge__',\n",
       " '__reduce_ex__',\n",
       " '__reduce__',\n",
       " '__getstate__',\n",
       " '__subclasshook__',\n",
       " '__init_subclass__',\n",
       " '__format__',\n",
       " '__sizeof__',\n",
       " '__dir__',\n",
       " '__class__']"
      ]
     },
     "execution_count": 5,
     "metadata": {},
     "output_type": "execute_result"
    }
   ],
   "source": [
    "ucus3.__dir__()"
   ]
  },
  {
   "cell_type": "code",
   "execution_count": 8,
   "metadata": {},
   "outputs": [],
   "source": [
    "class Ucus():\n",
    "    havayolu=\"THY\"\n",
    "\n",
    "    def __init__(self,kod,kalkis,varis,sure,kapasite,yolcu):\n",
    "        self.kod=kod\n",
    "        self.kalkis=kalkis\n",
    "        self.varis=varis\n",
    "        self.sure=sure\n",
    "        self.kapasite=kapasite\n",
    "        self.yolcu=yolcu\n",
    "\n",
    "    def __repr__(self):  \n",
    "        return \"{} sefer sayili uçuş tanitilmiştir...\".format(self.kod)  \n",
    "\n",
    "    def anonsyap(self):\n",
    "        return f\"{self.kod} sefer sayili {self.kalkis}--{self.varis} uçuşumuz {self.sure} dakika sürecektir.\" \n",
    "\n",
    "    def koltuk_sayisi_güncelle(self):\n",
    "        return self.kapasite - self.yolcu\n",
    "    \n",
    "    def bilet_satişi(self,bilet_adeti=1):\n",
    "        self.yolcu +=bilet_adeti\n",
    "        self.koltuk_sayisi_güncelle()\n",
    "        return print(f\"{bilet_adeti} adet bilet satilmiştir{self.koltuk_sayisi_güncelle()} adet koltuk kalmistir\")"
   ]
  },
  {
   "cell_type": "code",
   "execution_count": 11,
   "metadata": {},
   "outputs": [],
   "source": [
    "ucus3=Ucus(\"TK223\",\"BOD\",\"MUĞ\",40,250,50)"
   ]
  },
  {
   "cell_type": "code",
   "execution_count": 12,
   "metadata": {},
   "outputs": [
    {
     "data": {
      "text/plain": [
       "TK223 sefer sayili uçuş tanitilmiştir..."
      ]
     },
     "execution_count": 12,
     "metadata": {},
     "output_type": "execute_result"
    }
   ],
   "source": [
    "ucus3"
   ]
  },
  {
   "cell_type": "code",
   "execution_count": 17,
   "metadata": {},
   "outputs": [],
   "source": [
    "class seyahat():\n",
    "\n",
    "    def __init__(self,kalkiş,variş):\n",
    "        self.kalkiş=kalkiş\n",
    "        self.variş=variş\n",
    "    \n",
    "    def anons(self):\n",
    "        return \"{}--{} seyahatine hoşgeldiniz\".format(self.kalkiş,self.variş)\n",
    "\n",
    "class otobüs(seyahat):\n",
    "\n",
    "    def __init__(self,mola_duraklari):\n",
    "       seyahat.__init__(self,\"ist\",\"ank\")\n",
    "       self.mola_duraklari=mola_duraklari"
   ]
  },
  {
   "cell_type": "code",
   "execution_count": 18,
   "metadata": {},
   "outputs": [],
   "source": [
    "seyahat1=seyahat(\"ant\",\"bod\")\n"
   ]
  },
  {
   "cell_type": "code",
   "execution_count": 21,
   "metadata": {},
   "outputs": [
    {
     "data": {
      "text/plain": [
       "'ant--bod seyahatine hoşgeldiniz'"
      ]
     },
     "execution_count": 21,
     "metadata": {},
     "output_type": "execute_result"
    }
   ],
   "source": [
    "seyahat1.anons()"
   ]
  },
  {
   "cell_type": "code",
   "execution_count": 22,
   "metadata": {},
   "outputs": [],
   "source": [
    "oto1=otobüs([\"fet\",\"alan\"])"
   ]
  },
  {
   "cell_type": "code",
   "execution_count": 24,
   "metadata": {},
   "outputs": [
    {
     "data": {
      "text/plain": [
       "['fet', 'alan']"
      ]
     },
     "execution_count": 24,
     "metadata": {},
     "output_type": "execute_result"
    }
   ],
   "source": [
    "oto1.mola_duraklari"
   ]
  },
  {
   "cell_type": "code",
   "execution_count": 23,
   "metadata": {},
   "outputs": [
    {
     "data": {
      "text/plain": [
       "'ist'"
      ]
     },
     "execution_count": 23,
     "metadata": {},
     "output_type": "execute_result"
    }
   ],
   "source": [
    "oto1.kalkiş"
   ]
  },
  {
   "cell_type": "code",
   "execution_count": 26,
   "metadata": {},
   "outputs": [
    {
     "data": {
      "text/plain": [
       "'ist--ank seyahatine hoşgeldiniz'"
      ]
     },
     "execution_count": 26,
     "metadata": {},
     "output_type": "execute_result"
    }
   ],
   "source": [
    "oto1.anons()"
   ]
  },
  {
   "cell_type": "code",
   "execution_count": null,
   "metadata": {},
   "outputs": [],
   "source": []
  },
  {
   "cell_type": "code",
   "execution_count": null,
   "metadata": {},
   "outputs": [],
   "source": []
  },
  {
   "cell_type": "code",
   "execution_count": null,
   "metadata": {},
   "outputs": [],
   "source": []
  },
  {
   "cell_type": "code",
   "execution_count": null,
   "metadata": {},
   "outputs": [],
   "source": []
  }
 ],
 "metadata": {
  "kernelspec": {
   "display_name": "Python 3",
   "language": "python",
   "name": "python3"
  },
  "language_info": {
   "codemirror_mode": {
    "name": "ipython",
    "version": 3
   },
   "file_extension": ".py",
   "mimetype": "text/x-python",
   "name": "python",
   "nbconvert_exporter": "python",
   "pygments_lexer": "ipython3",
   "version": "3.11.3"
  },
  "orig_nbformat": 4
 },
 "nbformat": 4,
 "nbformat_minor": 2
}
