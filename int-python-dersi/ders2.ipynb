{
 "cells": [
  {
   "cell_type": "code",
   "execution_count": 1,
   "metadata": {},
   "outputs": [],
   "source": [
    "yorum_yapanlar=[\"kübra köse\",\"ayşe kandıran\",\"fersan parkın\",\"fikret inci\",\"feride köse\",\"hatice can\"]"
   ]
  },
  {
   "cell_type": "code",
   "execution_count": 2,
   "metadata": {},
   "outputs": [
    {
     "name": "stdout",
     "output_type": "stream",
     "text": [
      "1 kişinin adi kübra soyadi köse\n",
      "2 kişinin adi ayşe soyadi kandıran\n",
      "3 kişinin adi fersan soyadi parkın\n",
      "4 kişinin adi fikret soyadi inci\n",
      "5 kişinin adi feride soyadi köse\n",
      "6 kişinin adi hatice soyadi can\n"
     ]
    }
   ],
   "source": [
    "yorum_sayisi=0\n",
    "\n",
    "for kisiler in yorum_yapanlar:\n",
    "    yorum_sayisi=yorum_sayisi+1\n",
    "    ad,soyad=kisiler.split()[0],kisiler.split()[1]\n",
    "    print(f\"{yorum_sayisi} kişinin adi {ad} soyadi {soyad}\")"
   ]
  },
  {
   "cell_type": "code",
   "execution_count": 5,
   "metadata": {},
   "outputs": [
    {
     "name": "stdout",
     "output_type": "stream",
     "text": [
      "1. kişinin adi kübra soyadi köse\n",
      "2. kişinin adi ayşe soyadi kandıran\n",
      "3. kişinin adi fersan soyadi parkın\n",
      "1. moderatörün adi fikret soyadi inci\n",
      "4. kişinin adi feride soyadi köse\n",
      "5. kişinin adi hatice soyadi can\n"
     ]
    }
   ],
   "source": [
    "yorum_sayisi=0\n",
    "moderator=\"fikret inci\"\n",
    "moderator_sayisi=0\n",
    "\n",
    "for kisiler in yorum_yapanlar:\n",
    "    \n",
    "    ad,soyad=kisiler.split()[0],kisiler.split()[1]\n",
    "\n",
    "    if moderator==kisiler:\n",
    "        moderator_sayisi+=1\n",
    "        print(f\"{moderator_sayisi}. moderatörün adi {ad} soyadi {soyad}\")\n",
    "    else:\n",
    "        yorum_sayisi=yorum_sayisi+1\n",
    "        print(f\"{yorum_sayisi}. kişinin adi {ad} soyadi {soyad}\")"
   ]
  },
  {
   "cell_type": "code",
   "execution_count": 1,
   "metadata": {},
   "outputs": [
    {
     "name": "stdout",
     "output_type": "stream",
     "text": [
      "1 2\n",
      "4 5\n"
     ]
    }
   ],
   "source": [
    "liste=[[1,2],[4,5]]\n",
    "\n",
    "for x,y in liste:\n",
    "    print(x,y)"
   ]
  },
  {
   "cell_type": "code",
   "execution_count": 3,
   "metadata": {},
   "outputs": [
    {
     "data": {
      "text/plain": [
       "dict_items([('adi', 'naz'), ('soyad', 'yagcioglu')])"
      ]
     },
     "execution_count": 3,
     "metadata": {},
     "output_type": "execute_result"
    }
   ],
   "source": [
    "kullanici1={\n",
    "    \"adi\":\"naz\",\n",
    "    \"soyad\":\"yagcioglu\"\n",
    "}\n",
    "kullanici1.items()"
   ]
  },
  {
   "cell_type": "code",
   "execution_count": 7,
   "metadata": {},
   "outputs": [
    {
     "name": "stdout",
     "output_type": "stream",
     "text": [
      "keyleri:adi \t valulari:naz\n",
      "keyleri:soyad \t valulari:yagcioglu\n"
     ]
    }
   ],
   "source": [
    "for k,v in kullanici1.items():\n",
    "    print(f\"keyleri:{k} \\t valulari:{v}\")"
   ]
  },
  {
   "cell_type": "code",
   "execution_count": 6,
   "metadata": {},
   "outputs": [
    {
     "name": "stdout",
     "output_type": "stream",
     "text": [
      "c harfi 2.indexte\n"
     ]
    }
   ],
   "source": [
    "harfler=[\"a\",\"b\",\"c\",\"d\",\"e\"]*100\n",
    "\n",
    "for index,harf in enumerate(harfler):\n",
    "    if harf==\"c\" :\n",
    "        print(f\"{harf} harfi {index}.indexte\")\n",
    "        break"
   ]
  },
  {
   "cell_type": "code",
   "execution_count": 7,
   "metadata": {},
   "outputs": [
    {
     "name": "stdout",
     "output_type": "stream",
     "text": [
      "1\n",
      "3\n",
      "5\n"
     ]
    }
   ],
   "source": [
    "for sayi in range(1,6):\n",
    "    if sayi%2==0:\n",
    "        continue\n",
    "    print(sayi)"
   ]
  },
  {
   "cell_type": "code",
   "execution_count": 8,
   "metadata": {},
   "outputs": [
    {
     "name": "stdout",
     "output_type": "stream",
     "text": [
      "1\n",
      "3\n",
      "5\n"
     ]
    }
   ],
   "source": [
    "for sayi in range(1,6):\n",
    "    if sayi%2==0:\n",
    "       pass\n",
    "    else:\n",
    "       print(sayi)"
   ]
  },
  {
   "cell_type": "code",
   "execution_count": 1,
   "metadata": {},
   "outputs": [],
   "source": [
    "def isim_soyisim_ayirma(isim_soyisim):\n",
    "    isim=isim_soyisim.split()[0]\n",
    "    soyisim=isim_soyisim.split()[1]\n",
    "    return isim,soyisim"
   ]
  },
  {
   "cell_type": "code",
   "execution_count": 2,
   "metadata": {},
   "outputs": [
    {
     "data": {
      "text/plain": [
       "('gökçe', 'gün')"
      ]
     },
     "execution_count": 2,
     "metadata": {},
     "output_type": "execute_result"
    }
   ],
   "source": [
    "isim_soyisim_ayirma(\"gökçe gün\")"
   ]
  },
  {
   "cell_type": "code",
   "execution_count": 3,
   "metadata": {},
   "outputs": [
    {
     "name": "stdout",
     "output_type": "stream",
     "text": [
      "gökçe\n",
      "gün\n"
     ]
    }
   ],
   "source": [
    "a,b=isim_soyisim_ayirma(\"gökçe gün\")\n",
    "print(a)\n",
    "print(b)"
   ]
  },
  {
   "cell_type": "code",
   "execution_count": 4,
   "metadata": {},
   "outputs": [],
   "source": [
    "def isim_soyisim_birlestir(isim,soyisim):\n",
    "    return \"-\".join([isim,soyisim])"
   ]
  },
  {
   "cell_type": "code",
   "execution_count": 5,
   "metadata": {},
   "outputs": [
    {
     "data": {
      "text/plain": [
       "'oğuzcan-bozkurt'"
      ]
     },
     "execution_count": 5,
     "metadata": {},
     "output_type": "execute_result"
    }
   ],
   "source": [
    "isim_soyisim_birlestir(\"oğuzcan\",\"bozkurt\")"
   ]
  },
  {
   "cell_type": "code",
   "execution_count": 6,
   "metadata": {},
   "outputs": [],
   "source": [
    "def isim_soyisim_birlestir(*args):\n",
    "    return \"-\".join(args)"
   ]
  },
  {
   "cell_type": "code",
   "execution_count": 7,
   "metadata": {},
   "outputs": [
    {
     "data": {
      "text/plain": [
       "'erol-mesut-güney'"
      ]
     },
     "execution_count": 7,
     "metadata": {},
     "output_type": "execute_result"
    }
   ],
   "source": [
    "isim_soyisim_birlestir(\"erol\",\"mesut\",\"güney\")"
   ]
  },
  {
   "cell_type": "code",
   "execution_count": 1,
   "metadata": {},
   "outputs": [],
   "source": [
    "def uygulama():\n",
    "    girdi=int(input(\"bir sayi girin:\"))\n",
    "    islem=input(\"girilen sayi tek mi cift mi\")\n",
    "\n",
    "    if islem==\"çift\":\n",
    "        if girdi%2==0:\n",
    "            return \"evet bu sayi çiftir\"\n",
    "        else:\n",
    "            return \"hayir bu sayi cift değildir\"\n",
    "    elif islem==\"tek\":\n",
    "       if girdi%2==1:\n",
    "           return \"evet bu sayi tektir\"\n",
    "       else:\n",
    "           return \"bu sayi tek değildir\"    "
   ]
  },
  {
   "cell_type": "code",
   "execution_count": 2,
   "metadata": {},
   "outputs": [
    {
     "data": {
      "text/plain": [
       "'hayir bu sayi cift değildir'"
      ]
     },
     "execution_count": 2,
     "metadata": {},
     "output_type": "execute_result"
    }
   ],
   "source": [
    "uygulama()"
   ]
  },
  {
   "cell_type": "code",
   "execution_count": 2,
   "metadata": {},
   "outputs": [],
   "source": [
    "def sayi_girdi_kontrol():\n",
    "    girdi=input(\"sayi giriniz:\")\n",
    "    if girdi.isdigit():\n",
    "        print(\"bu bir sayidir\")\n",
    "    else:\n",
    "        print(\"bu bir sayi değildir\")"
   ]
  },
  {
   "cell_type": "code",
   "execution_count": 4,
   "metadata": {},
   "outputs": [
    {
     "name": "stdout",
     "output_type": "stream",
     "text": [
      "bu bir sayidir\n"
     ]
    }
   ],
   "source": [
    "sayi_girdi_kontrol()"
   ]
  },
  {
   "cell_type": "code",
   "execution_count": 5,
   "metadata": {},
   "outputs": [],
   "source": [
    "def sayi_girdi_kontrol2():\n",
    "    while True:\n",
    "      girdi=input(\"sayi giriniz\")\n",
    "      if girdi.isdigit():\n",
    "         print(\"bu bir sayidir\")\n",
    "         break\n",
    "      else:\n",
    "         print(\"lütfen bir sayi giriniz\")"
   ]
  },
  {
   "cell_type": "code",
   "execution_count": 6,
   "metadata": {},
   "outputs": [
    {
     "name": "stdout",
     "output_type": "stream",
     "text": [
      "lütfen bir sayi giriniz\n",
      "lütfen bir sayi giriniz\n",
      "bu bir sayidir\n"
     ]
    }
   ],
   "source": [
    "sayi_girdi_kontrol2()"
   ]
  }
 ],
 "metadata": {
  "kernelspec": {
   "display_name": "Python 3",
   "language": "python",
   "name": "python3"
  },
  "language_info": {
   "codemirror_mode": {
    "name": "ipython",
    "version": 3
   },
   "file_extension": ".py",
   "mimetype": "text/x-python",
   "name": "python",
   "nbconvert_exporter": "python",
   "pygments_lexer": "ipython3",
   "version": "3.11.3"
  },
  "orig_nbformat": 4
 },
 "nbformat": 4,
 "nbformat_minor": 2
}
