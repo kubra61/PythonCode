{
 "cells": [
  {
   "cell_type": "code",
   "execution_count": 9,
   "metadata": {},
   "outputs": [],
   "source": [
    "def tam_sayi_cevir():\n",
    "    girdi=input(\"bir ondalik sayi giriniz:\")\n",
    "\n",
    "    try:\n",
    "        girdi=float(girdi)\n",
    "        yeni_girdi=round(girdi)\n",
    "        print(f\"yuvarlama işleminin sonucu:{yeni_girdi}\")\n",
    "    except:\n",
    "        print(f\"{girdi} girdisi ondalik tipe çevrilemiyor\")    "
   ]
  },
  {
   "cell_type": "code",
   "execution_count": 10,
   "metadata": {},
   "outputs": [
    {
     "name": "stdout",
     "output_type": "stream",
     "text": [
      "yuvarlama işleminin sonucu:2\n"
     ]
    }
   ],
   "source": [
    "tam_sayi_cevir()"
   ]
  },
  {
   "cell_type": "code",
   "execution_count": 13,
   "metadata": {},
   "outputs": [],
   "source": [
    "def tam_sayi_cevir2():\n",
    "    girdi=input(\"bir ondalik sayi giriniz:\")\n",
    "    status=''\n",
    "    try:\n",
    "        girdi=float(girdi)\n",
    "        yeni_girdi=round(girdi)\n",
    "        print(f\"yuvarlama işleminin sonucu:{yeni_girdi}\")\n",
    "        status='başarili'\n",
    "    except:\n",
    "        print(f\"{girdi} girdisi ondalik tipe çevrilemiyor\")\n",
    "        status='başarisiz'\n",
    "    finally:\n",
    "        print(f\"tam sayiya çevirme işlemi {status}\")     "
   ]
  },
  {
   "cell_type": "code",
   "execution_count": 15,
   "metadata": {},
   "outputs": [
    {
     "name": "stdout",
     "output_type": "stream",
     "text": [
      "b girdisi ondalik tipe çevrilemiyor\n",
      "tam sayiya çevirme işlemi başarisiz\n"
     ]
    }
   ],
   "source": [
    "tam_sayi_cevir2()"
   ]
  },
  {
   "cell_type": "code",
   "execution_count": null,
   "metadata": {},
   "outputs": [],
   "source": []
  },
  {
   "cell_type": "code",
   "execution_count": null,
   "metadata": {},
   "outputs": [],
   "source": []
  }
 ],
 "metadata": {
  "kernelspec": {
   "display_name": "Python 3",
   "language": "python",
   "name": "python3"
  },
  "language_info": {
   "codemirror_mode": {
    "name": "ipython",
    "version": 3
   },
   "file_extension": ".py",
   "mimetype": "text/x-python",
   "name": "python",
   "nbconvert_exporter": "python",
   "pygments_lexer": "ipython3",
   "version": "3.11.3"
  },
  "orig_nbformat": 4
 },
 "nbformat": 4,
 "nbformat_minor": 2
}
