{
 "cells": [
  {
   "cell_type": "code",
   "execution_count": 2,
   "metadata": {},
   "outputs": [
    {
     "name": "stdout",
     "output_type": "stream",
     "text": [
      "[1, 2, 3, 4, 5, 6, 7, 8, 9, 10, 11, 12, 13, 14, 15, 16, 17, 18, 19, 20, 21, 22, 23, 24, 25, 26, 27, 28, 29, 30, 31, 32, 33, 34, 35, 36, 37, 38, 39, 40, 41, 42, 43, 44, 45, 46, 47, 48, 49, 50, 51, 52, 53, 54, 55, 56, 57, 58, 59, 60, 61, 62, 63, 64, 65, 66, 67, 68, 69, 70, 71, 72, 73, 74, 75, 76, 77, 78, 79, 80, 81, 82, 83, 84, 85, 86, 87, 88, 89, 90, 91, 92, 93, 94, 95, 96, 97, 98, 99, 100]\n"
     ]
    }
   ],
   "source": [
    "liste=[]\n",
    "for i in range(1,101):\n",
    "    liste.append(i)\n",
    "print(liste)"
   ]
  },
  {
   "cell_type": "code",
   "execution_count": 3,
   "metadata": {},
   "outputs": [
    {
     "name": "stdout",
     "output_type": "stream",
     "text": [
      "[2, 4, 6, 8, 10, 12, 14, 16, 18, 20, 22, 24, 26, 28, 30, 32, 34, 36, 38, 40, 42, 44, 46, 48, 50, 52, 54, 56, 58, 60, 62, 64, 66, 68, 70, 72, 74, 76, 78, 80, 82, 84, 86, 88, 90, 92, 94, 96, 98, 100]\n"
     ]
    }
   ],
   "source": [
    "liste=[]\n",
    "for i in range(1,101):\n",
    "    if i%2==0:\n",
    "        liste.append(i)\n",
    "print(liste)"
   ]
  },
  {
   "cell_type": "code",
   "execution_count": 4,
   "metadata": {},
   "outputs": [
    {
     "name": "stdout",
     "output_type": "stream",
     "text": [
      "[15, 30, 45, 60, 75, 90]\n"
     ]
    }
   ],
   "source": [
    "liste=[]\n",
    "\n",
    "for i in range(1,101):\n",
    "    if i%3==0 and i%5==0:\n",
    "        liste.append(i)\n",
    "print(liste)        "
   ]
  },
  {
   "cell_type": "code",
   "execution_count": 5,
   "metadata": {},
   "outputs": [
    {
     "name": "stdout",
     "output_type": "stream",
     "text": [
      "[3, 5, 6, 9, 10, 12, 15, 18, 20, 21, 24, 25, 27, 30, 33, 35, 36, 39, 40, 42, 45, 48, 50, 51, 54, 55, 57, 60, 63, 65, 66, 69, 70, 72, 75, 78, 80, 81, 84, 85, 87, 90, 93, 95, 96, 99, 100]\n"
     ]
    }
   ],
   "source": [
    "liste=[]\n",
    "\n",
    "for i in range(1,101):\n",
    "    if i%3==0 or i%5==0:\n",
    "        liste.append(i)\n",
    "print(liste)        "
   ]
  },
  {
   "cell_type": "code",
   "execution_count": 6,
   "metadata": {},
   "outputs": [
    {
     "name": "stdout",
     "output_type": "stream",
     "text": [
      "[1, 2, 3, 4, 5, 6, 7, 8, 9, 10, 11, 12, 13, 14, 15, 16, 17, 18, 19, 20, 21, 22, 23, 24, 25, 26, 27, 28]\n"
     ]
    }
   ],
   "source": [
    "liste=[]\n",
    "\n",
    "sayi=int(input(\"bir sayi giriniz:\"))\n",
    "\n",
    "for i in range(1,sayi+1):\n",
    "    liste.append(i)\n",
    "print(liste)    \n"
   ]
  },
  {
   "cell_type": "code",
   "execution_count": 8,
   "metadata": {},
   "outputs": [
    {
     "name": "stdout",
     "output_type": "stream",
     "text": [
      "dikdörtgenin alani:200\n",
      "dikdörtgenin çevresi:60\n"
     ]
    }
   ],
   "source": [
    "kisa_kenar=int(input(\"dikdörtgenin kisa kenarini giriniz:\"))\n",
    "uzun_kenar=int(input(\"dikdörtgenin uzun kenarini giriniz:\"))\n",
    "\n",
    "alan=kisa_kenar*uzun_kenar\n",
    "çevre=(kisa_kenar*2)+(uzun_kenar*2)\n",
    "\n",
    "print(f\"dikdörtgenin alani:{alan}\")\n",
    "print(f\"dikdörtgenin çevresi:{çevre}\")"
   ]
  },
  {
   "cell_type": "code",
   "execution_count": 10,
   "metadata": {},
   "outputs": [
    {
     "name": "stdout",
     "output_type": "stream",
     "text": [
      "k\n",
      "ü\n",
      "b\n",
      "r\n",
      "a\n"
     ]
    }
   ],
   "source": [
    "kelime=input(\"bir kelime giriniz:\")\n",
    "\n",
    "for harf in kelime:\n",
    "    print(harf)"
   ]
  },
  {
   "cell_type": "code",
   "execution_count": 12,
   "metadata": {},
   "outputs": [
    {
     "name": "stdout",
     "output_type": "stream",
     "text": [
      "4 ile 12 arasindaki sayilarin toplami:72\n"
     ]
    }
   ],
   "source": [
    "sayi1=int(input(\"1.sayiyi giriniz:\"))\n",
    "sayi2=int(input(\"2.sayiyi giriniz:\"))\n",
    "\n",
    "toplam=0\n",
    "\n",
    "for i in range(sayi1,sayi2+1):\n",
    "    toplam=toplam+i\n",
    "print(f\"{sayi1} ile {sayi2} arasindaki sayilarin toplami:{toplam}\")\n"
   ]
  },
  {
   "cell_type": "code",
   "execution_count": 18,
   "metadata": {},
   "outputs": [
    {
     "name": "stdout",
     "output_type": "stream",
     "text": [
      "13 bir asal sayidir\n"
     ]
    }
   ],
   "source": [
    "sayi=int(input(\"bir sayi giriniz:\"))\n",
    "\n",
    "bölünebilen_sayilar=0\n",
    "\n",
    "for i in range(2,sayi):\n",
    "    if sayi%i==0:\n",
    "        bölünebilen_sayilar+=1\n",
    "        break\n",
    "if bölünebilen_sayilar==0:\n",
    "      print(f\"{sayi} bir asal sayidir\")\n",
    "else:\n",
    "      print(f\"{sayi} bir asal sayi değildir\")    \n"
   ]
  },
  {
   "cell_type": "code",
   "execution_count": 2,
   "metadata": {},
   "outputs": [
    {
     "name": "stdout",
     "output_type": "stream",
     "text": [
      "1 den 10 a kadar olan tek sayiların toplamı:25\n",
      "1 den 10 a kadar olan çift sayiların toplamı:30\n"
     ]
    }
   ],
   "source": [
    "sayi=int(input(\"bir sayi giriniz:\"))\n",
    "\n",
    "tek_toplam=0\n",
    "çift_toplam=0\n",
    "\n",
    "for i in range(1,sayi+1):\n",
    "\n",
    "    if i % 2 != 0:\n",
    "        tek_toplam=tek_toplam+i\n",
    "    else:\n",
    "        çift_toplam=çift_toplam+i\n",
    "print(f\"1 den {sayi} a kadar olan tek sayilarin toplami:{tek_toplam}\")\n",
    "print(f\"1 den {sayi} a kadar olan çift sayilarin toplami:{çift_toplam}\")            "
   ]
  },
  {
   "cell_type": "code",
   "execution_count": 3,
   "metadata": {},
   "outputs": [
    {
     "name": "stdout",
     "output_type": "stream",
     "text": [
      "işçinin yeni maaşi:1100.0\n"
     ]
    }
   ],
   "source": [
    "maaş=int(input(\"işçinin maaşini giriniz:\"))\n",
    "zam=int(input(\"işçinin zam oranini giriniz\"))\n",
    "\n",
    "zamli_maaşi=maaş+((maaş*zam)/100)\n",
    "\n",
    "print(f\"işçinin yeni maaşi:{zamli_maaşi}\")"
   ]
  },
  {
   "cell_type": "code",
   "execution_count": 9,
   "metadata": {},
   "outputs": [],
   "source": [
    "def dairenin_alani(yari_çap):\n",
    "\n",
    "    daire_alani=3.14*(yari_çap)**2\n",
    "\n",
    "    return print(f\"dairenin alani:{daire_alani}\")\n",
    "\n"
   ]
  },
  {
   "cell_type": "code",
   "execution_count": 10,
   "metadata": {},
   "outputs": [
    {
     "name": "stdout",
     "output_type": "stream",
     "text": [
      "dairenin alani:50.24\n"
     ]
    }
   ],
   "source": [
    "dairenin_alani(4)"
   ]
  },
  {
   "cell_type": "code",
   "execution_count": 11,
   "metadata": {},
   "outputs": [
    {
     "name": "stdout",
     "output_type": "stream",
     "text": [
      "Alan : 50.24\n"
     ]
    },
    {
     "data": {
      "text/plain": [
       "50.24"
      ]
     },
     "execution_count": 11,
     "metadata": {},
     "output_type": "execute_result"
    }
   ],
   "source": [
    "def daireAlan(yaricap):\n",
    "    alan = float(yaricap) * float(yaricap)*3.14\n",
    "    print (\"Alan :\",alan)\n",
    "    return alan\n",
    " \n",
    "r = input(\"Yarıçapı Gir :\")\n",
    " \n",
    "daireAlan(r)"
   ]
  },
  {
   "cell_type": "code",
   "execution_count": 3,
   "metadata": {},
   "outputs": [
    {
     "name": "stdout",
     "output_type": "stream",
     "text": [
      "sayiyi arttiriniz\n",
      "sayiyi arttiriniz\n",
      "sayiyi arttiriniz\n",
      "sayiyi arttiriniz\n",
      "sayiyi küçültünüz\n",
      "tebrikler!sayiyi bildiniz\n",
      "--------------------------\n",
      "tutulan sayi:75\n",
      "6 de  kere tahmin ettiniz\n"
     ]
    }
   ],
   "source": [
    "import random\n",
    "\n",
    "tahminedilen_sayi=random.randint(1,100)\n",
    "\n",
    "tahmin_sayisi=0\n",
    "while True:\n",
    "    sayi=int(input(\"1 ile 100 arasinda bir sayi tahmin edininz.çikiş yapmak için 0 a basin\"))\n",
    "    tahmin_sayisi+=1\n",
    "\n",
    "    if sayi==0:\n",
    "        print(\"oyundan çikikş yaptiniz\")\n",
    "        break\n",
    "    elif sayi<tahminedilen_sayi:\n",
    "        print(\"sayiyi arttiriniz\")\n",
    "        continue\n",
    "    elif sayi>tahminedilen_sayi:\n",
    "        print(\"sayiyi küçültünüz\")\n",
    "        continue\n",
    "    else:\n",
    "        print(\"tebrikler!sayiyi bildiniz\")\n",
    "        print(\"--------------------------\")\n",
    "        print(f\"tutulan sayi:{tahminedilen_sayi}\")\n",
    "        print(f\"{tahmin_sayisi} de  kere tahmin ettiniz\")\n",
    "        break"
   ]
  },
  {
   "cell_type": "code",
   "execution_count": 3,
   "metadata": {},
   "outputs": [
    {
     "name": "stdout",
     "output_type": "stream",
     "text": [
      "beşin katlari:[15, 85, 65, 30, 10, 20, 5]\n",
      "listede 7 kadar eleman vardir\n"
     ]
    }
   ],
   "source": [
    "sayilar = [18,22,15,85,65,30,10,20,32,34,28,101,5,4,32]\n",
    "\n",
    "beşin_katlari=[]\n",
    "\n",
    "sayac=0\n",
    "\n",
    "for i in sayilar:\n",
    "    if i%5==0:\n",
    "        beşin_katlari.append(i)\n",
    "        sayac+=1\n",
    "print(f\"beşin katlari:{beşin_katlari}\")\n",
    "print(f\"listede {sayac} kadar eleman vardir\")        "
   ]
  },
  {
   "cell_type": "code",
   "execution_count": 8,
   "metadata": {},
   "outputs": [
    {
     "name": "stdout",
     "output_type": "stream",
     "text": [
      "i metnin içerisinde\n"
     ]
    }
   ],
   "source": [
    "metin=\"sağlikli günler dileriz\"\n",
    "\n",
    "karakter=input(\"bir karakter giriniz:\")\n",
    "\n",
    "for i in metin:\n",
    "    if karakter in metin:\n",
    "        print(f\"{karakter} metnin içerisinde\")\n",
    "        break\n",
    "    else:\n",
    "       print(f\"{karakter} metnin içerisinde değil\") \n",
    "       break"
   ]
  },
  {
   "cell_type": "code",
   "execution_count": 6,
   "metadata": {},
   "outputs": [
    {
     "name": "stdout",
     "output_type": "stream",
     "text": [
      "11 ile 20 arasindaki çift sayilarin ortalamasi:16.0\n"
     ]
    }
   ],
   "source": [
    "sayi1=int(input(\"1.sayiyi giriniz:\"))\n",
    "sayi2=int(input(\"2.sayiyi giriniz:\"))\n",
    "\n",
    "toplam=0\n",
    "kaçtane_cift=0\n",
    "\n",
    "for i in range(sayi1,sayi2+1):\n",
    "    if i%2==0:\n",
    "        kaçtane_cift+=1\n",
    "        toplam=toplam+i\n",
    "ort=toplam/kaçtane_cift  \n",
    "\n",
    "print(f\"{sayi1} ile {sayi2} arasindaki çift sayilarin ortalamasi:{ort}\")\n",
    "      \n"
   ]
  },
  {
   "cell_type": "code",
   "execution_count": 11,
   "metadata": {},
   "outputs": [],
   "source": [
    "def cift_bulma(x,y):\n",
    "    top=0\n",
    "    kac_cift=0\n",
    "\n",
    "    for i in range(x,y+1):\n",
    "        if i%2==0:\n",
    "            kac_cift+=1\n",
    "            top=top+i\n",
    "    ortf=top/kac_cift\n",
    "\n",
    "    return ortf            "
   ]
  },
  {
   "cell_type": "code",
   "execution_count": 12,
   "metadata": {},
   "outputs": [
    {
     "data": {
      "text/plain": [
       "16.0"
      ]
     },
     "execution_count": 12,
     "metadata": {},
     "output_type": "execute_result"
    }
   ],
   "source": [
    "cift_bulma(11,20)"
   ]
  },
  {
   "cell_type": "code",
   "execution_count": null,
   "metadata": {},
   "outputs": [],
   "source": []
  }
 ],
 "metadata": {
  "kernelspec": {
   "display_name": "Python 3",
   "language": "python",
   "name": "python3"
  },
  "language_info": {
   "codemirror_mode": {
    "name": "ipython",
    "version": 3
   },
   "file_extension": ".py",
   "mimetype": "text/x-python",
   "name": "python",
   "nbconvert_exporter": "python",
   "pygments_lexer": "ipython3",
   "version": "3.11.3"
  },
  "orig_nbformat": 4
 },
 "nbformat": 4,
 "nbformat_minor": 2
}
