{
 "cells": [
  {
   "cell_type": "markdown",
   "metadata": {},
   "source": [
    "# dosya açma ve kapama"
   ]
  },
  {
   "cell_type": "markdown",
   "metadata": {},
   "source": [
    "### \"r\" : read modu, dosya varsa içeriği okur. varsayılan olarak dosya açarken belirtmese bile bu modda dosya açar"
   ]
  },
  {
   "cell_type": "code",
   "execution_count": 4,
   "metadata": {},
   "outputs": [
    {
     "name": "stdout",
     "output_type": "stream",
     "text": [
      "<_io.TextIOWrapper name='metindosyasi.txt' mode='w' encoding='utf-8'>\n"
     ]
    }
   ],
   "source": [
    "result=open(\"metindosyasi.txt\",\"w\",encoding=\"utf-8\")\n",
    "\n",
    "result.write(\"deneme\")\n",
    "\n",
    "print(result)\n",
    "\n",
    "result.close()"
   ]
  },
  {
   "cell_type": "code",
   "execution_count": 5,
   "metadata": {},
   "outputs": [],
   "source": [
    "file=open(r\"C:\\Users\\kosek\\Desktop\\dene\\yeniMetinDosyasi.txt\",\"w\",encoding=\"utf-8\")\n",
    "file.write(\"sana erişebildim\")\n",
    "file.close() "
   ]
  },
  {
   "cell_type": "markdown",
   "metadata": {},
   "source": [
    "#### yada \\ \\ ile olabilir"
   ]
  },
  {
   "cell_type": "code",
   "execution_count": 6,
   "metadata": {},
   "outputs": [],
   "source": [
    "file=open(\"metindosyasi.txt\",\"w\",encoding=\"utf-8\")\n",
    "\n",
    "file.write(\"içerik değişti\")\n",
    "\n",
    "file.close()"
   ]
  },
  {
   "cell_type": "markdown",
   "metadata": {},
   "source": [
    "#### \"a\":(append) ekleme. dosya konumda yoksa oluşturur.dosya içeriğini silmez."
   ]
  },
  {
   "cell_type": "code",
   "execution_count": 8,
   "metadata": {},
   "outputs": [],
   "source": [
    "file=open(\"metindosyasi.txt\",\"a\",encoding=\"utf-8\")\n",
    "\n",
    "file.write(\"\\nBu satırı dosyaya append et\")\n",
    "\n",
    "file.close()\n"
   ]
  },
  {
   "cell_type": "markdown",
   "metadata": {},
   "source": [
    "  \"x\":(create) oluşturma. dosya zaten varsa hata verir"
   ]
  },
  {
   "cell_type": "code",
   "execution_count": 9,
   "metadata": {},
   "outputs": [],
   "source": [
    "file=open(\"metindosyasi2.txt\",\"x\",encoding=\"utf-8\")\n",
    "\n",
    "file.write(\"\\n x modunda ekleme\")\n",
    "\n",
    "file.close()"
   ]
  },
  {
   "cell_type": "markdown",
   "metadata": {},
   "source": [
    "\"r\":(read) okuma varsayılan. dosya konumunda yoksa hata verir"
   ]
  },
  {
   "cell_type": "code",
   "execution_count": 10,
   "metadata": {},
   "outputs": [
    {
     "name": "stdout",
     "output_type": "stream",
     "text": [
      "<_io.TextIOWrapper name='metindosyasi.txt' mode='r' encoding='cp1254'>\n"
     ]
    }
   ],
   "source": [
    "file=open(\"metindosyasi.txt\")\n",
    "print(file)\n",
    "file.close()"
   ]
  },
  {
   "cell_type": "code",
   "execution_count": 12,
   "metadata": {},
   "outputs": [
    {
     "name": "stdout",
     "output_type": "stream",
     "text": [
      "dosya bulunamadı\n",
      "dosya kapandı\n"
     ]
    }
   ],
   "source": [
    "try:\n",
    "    file=open(\"metindosyasi3.txt\",\"r\",encoding=\"utf-8\")\n",
    "    print(file)\n",
    "except FileNotFoundError:\n",
    "    print(\"dosya bulunamadı\")\n",
    "finally:\n",
    "    print(\"dosya kapandı\")\n",
    "    file.close()        "
   ]
  },
  {
   "cell_type": "code",
   "execution_count": 13,
   "metadata": {},
   "outputs": [
    {
     "name": "stdout",
     "output_type": "stream",
     "text": [
      "içerik değişti\n",
      "\n",
      "Bu satırı dosyaya append et\n",
      "\n",
      "Bu satırı dosyaya append et\n"
     ]
    }
   ],
   "source": [
    "file=open(\"metindosyasi.txt\",\"r\",encoding=\"utf-8\")\n",
    "\n",
    "for satir in file:\n",
    "    print(satir,end=\"\\n\")\n",
    "    \n",
    "file.close()    "
   ]
  },
  {
   "cell_type": "code",
   "execution_count": 25,
   "metadata": {},
   "outputs": [
    {
     "name": "stdout",
     "output_type": "stream",
     "text": [
      "içerik1\n",
      "içerik değişti\n",
      "Bu satırı dosyaya append et\n",
      "Bu satırı dosyaya append et\n",
      "içerik2\n",
      "\n"
     ]
    }
   ],
   "source": [
    "file=open(\"metindosyasi.txt\",\"r\", encoding=\"utf-8\")\n",
    "\n",
    "content1=file.read()\n",
    "print(\"içerik1\")\n",
    "print(content1)\n",
    "content2=file.read()\n",
    "print(\"içerik2\")\n",
    "print(content2)\n",
    "\n",
    "file.close()"
   ]
  },
  {
   "cell_type": "markdown",
   "metadata": {},
   "source": [
    "### readline() fonksiyonu"
   ]
  },
  {
   "cell_type": "code",
   "execution_count": 20,
   "metadata": {},
   "outputs": [
    {
     "name": "stdout",
     "output_type": "stream",
     "text": [
      "içerik değişti\n",
      "Bu satırı dosyaya append et\n",
      "Bu satırı dosyaya append et"
     ]
    }
   ],
   "source": [
    "file=open(\"metindosyasi.txt\",\"r\", encoding=\"utf-8\")\n",
    "\n",
    "print(file.readline(), end=\"\")\n",
    "print(file.readline(), end=\"\")\n",
    "print(file.readline(), end=\"\")\n",
    "print(file.readline(), end=\"\")\n",
    "file.close()"
   ]
  },
  {
   "cell_type": "markdown",
   "metadata": {},
   "source": [
    "readlines() fonksiyonu"
   ]
  },
  {
   "cell_type": "code",
   "execution_count": 21,
   "metadata": {},
   "outputs": [
    {
     "name": "stdout",
     "output_type": "stream",
     "text": [
      "['içerik değişti\\n', 'Bu satırı dosyaya append et\\n', 'Bu satırı dosyaya append et']\n"
     ]
    }
   ],
   "source": [
    "file=open(\"metindosyasi.txt\",\"r\", encoding=\"utf-8\")\n",
    "\n",
    "liste= file.readlines()\n",
    "print(liste)\n",
    "\n",
    "file.close()\n"
   ]
  },
  {
   "cell_type": "code",
   "execution_count": 41,
   "metadata": {},
   "outputs": [],
   "source": [
    "file=open(\"siir1.txt\",\"w\",encoding=\"utf-8\")\n",
    "file.write(\"\"\"Ağlasam sesimi duyar mısınız,  \n",
    "Mısralarımda; \n",
    "Dokunabilir misiniz, \n",
    "Gözyaşlarıma, ellerinizle?  \n",
    "Bilmezdim şarkıların bu kadar güzel, \n",
    "Kelimelerinse kifayetsiz olduğunu \n",
    "Bu derde düşmeden önce.  \n",
    "Bir yer var, biliyorum; \n",
    "Her şeyi söylemek mümkün; \n",
    "Epeyce yaklaşmışım, duyuyorum; \n",
    "Anlatamıyorum.\"\"\")\n",
    "\n",
    "\n",
    "file.close()"
   ]
  },
  {
   "cell_type": "code",
   "execution_count": 42,
   "metadata": {},
   "outputs": [
    {
     "name": "stdout",
     "output_type": "stream",
     "text": [
      "Ağlasam sesimi duyar mısınız,  \n",
      "Mısralarımda; \n",
      "Dokunabilir misiniz, \n",
      "Gözyaşlarıma, ellerinizle?  \n",
      "Bilmezdim şarkıların bu kadar güzel, \n",
      "Kelimelerinse kifayetsiz olduğunu \n",
      "Bu derde düşmeden önce.  \n",
      "Bir yer var, biliyorum; \n",
      "Her şeyi söylemek mümkün; \n",
      "Epeyce yaklaşmışım, duyuyorum; \n",
      "Anlatamıyorum.\n"
     ]
    }
   ],
   "source": [
    "file = open(\"siir1.txt\", \"r\", encoding=\"utf-8\")\n",
    "print(file.read())\n",
    "file.close()"
   ]
  },
  {
   "cell_type": "code",
   "execution_count": 43,
   "metadata": {},
   "outputs": [
    {
     "name": "stdout",
     "output_type": "stream",
     "text": [
      "Ağlasam sesimi duyar mısınız,  \n",
      "Mısralarımda; \n",
      "Dokunabilir misiniz, \n",
      "Gözyaşlarıma, ellerinizle?  \n",
      "Bilmezdim şarkıların bu kadar güzel, \n",
      "Kelimelerinse kifayetsiz olduğunu \n",
      "Bu derde düşmeden önce.  \n",
      "Bir\n",
      "\n",
      "a; \n",
      "Dokunabilir misiniz, \n",
      "Gözyaşlarıma, ellerinizle?  \n",
      "Bilmezdim şarkıların bu kadar güzel, \n",
      "Kelimelerinse kifayetsiz olduğunu \n",
      "Bu derde düşmeden önce.  \n",
      "Bir yer var, biliyorum; \n",
      "Her şeyi söylemek müm\n"
     ]
    }
   ],
   "source": [
    "file=open(\"siir1.txt\",\"r\",encoding=\"utf-8\")\n",
    "\n",
    "content= file.read(200)\n",
    "print(content)\n",
    "file.seek(50)\n",
    "print()\n",
    "content= file.read(200)\n",
    "print(content)\n",
    "file.close()"
   ]
  },
  {
   "cell_type": "markdown",
   "metadata": {},
   "source": [
    "#### with open context"
   ]
  },
  {
   "cell_type": "code",
   "execution_count": 44,
   "metadata": {},
   "outputs": [
    {
     "name": "stdout",
     "output_type": "stream",
     "text": [
      "Ağlasam sesimi duyar mısınız,  \n",
      "Mısralarımda; \n",
      "Dokunabilir misiniz, \n",
      "Gözyaşlarıma, ellerinizle?  \n",
      "Bilmezdim şarkıların bu kadar güzel, \n",
      "Kelimelerinse kifayetsiz olduğunu \n",
      "Bu derde düşmeden önce.  \n",
      "Bir yer var, biliyorum; \n",
      "Her şeyi söylemek mümkün; \n",
      "Epeyce yaklaşmışım, duyuyorum; \n",
      "Anlatamıyorum.\n",
      "331\n"
     ]
    }
   ],
   "source": [
    "with open(\"siir1.txt\",\"r\", encoding=\"utf-8\") as file:\n",
    "    content=file.read(300)\n",
    "    print(content)\n",
    "    print(file.tell())"
   ]
  },
  {
   "cell_type": "code",
   "execution_count": 46,
   "metadata": {},
   "outputs": [
    {
     "name": "stdout",
     "output_type": "stream",
     "text": [
      "bu yazıyı da şiirin başına ekle\n",
      " \n"
     ]
    }
   ],
   "source": [
    "with open(\"siir1.txt\",\"a\", encoding=\"utf-8\") as file:\n",
    "    file.write(\"\\nBu son yazdıklarımı şiirin sonuna ekle\")\n",
    "    file.seek(0)\n",
    "    print(\"bu yazıyı da şiirin başına ekle\\n \")"
   ]
  },
  {
   "cell_type": "code",
   "execution_count": 47,
   "metadata": {},
   "outputs": [],
   "source": [
    "with open(\"siir2.txt\",\"x\",encoding=\"utf-8\") as dosya:\n",
    "    dosya.write(\"\"\"Milyon Kere Ayten\n",
    " \n",
    "    Ben bir Aytendir tutturmuşum  oh ne iyi\n",
    "    Aytenli içkiler içip sarhoş oluyorum, ne güzel! \n",
    "    Hoşuma gitmiyorsa rengi denizlerin, \n",
    "    Biraz Ayten sürüyorum, güzelleşiyor. \n",
    "    Şarkılar söylüyorum, \n",
    "    Şiirler yazıyorum Ayten üstüne. \n",
    "    Saatim her zaman Aytene beş var \n",
    "    Ya da Ayteni beş geçiyor. \n",
    "    Ne yana baksam gördüğüm o, \n",
    "    Gözümü yumsam aklımdan Ayten geçiyor.\n",
    "\n",
    "    Bana sorarsanız mevsimlerden Aytendeyiz, \n",
    "    Günlerden Aytenertesidir. \n",
    "    Odur gün gün beni yaşatan. \n",
    "    Onun kokusu sarmıştır sokakları, \n",
    "    Onun gözleridir şafakta gördüğüm\n",
    "    Akşam kızıllığında onun dudakları.\n",
    "    \n",
    "    Başka kadını övmeyin yanımda, gücenirim. \n",
    "    Ayteni övecekseniz ne alâ, oturabilirsiniz.\n",
    "    Bir kadeh de sizinle içeriz, Aytenli\n",
    "    İki laf ederiz. \n",
    "    Onu siz de seversiniz benim gibi.\n",
    "\n",
    "    Ama yağma yok Ayteni size bırakmam. \n",
    "    Alın tek kat elbisemi size vereyim, \n",
    "    Cebimde bir on liram var \n",
    "    Onu da alın gerekirse. \n",
    "    Ben Ayteni düşünürüm, üşümem. \n",
    "    Üç kere adını tekrarlarım, karnım doyar. \n",
    "    Parasızlık da bir şey mi? \n",
    "    Ölüm bile kötü değil Aytensizlik kadar. \n",
    "\n",
    "    Ona uğramayan gemiler batsın, \n",
    "    Ondan geçmeyen trenler devrilsin, \n",
    "    Onu sevmeyen yürek taş kesilsin, \n",
    "    Kapansın onu görmeyen gözler, \n",
    "    Onu övmeyen diller kurusun. \n",
    "    İki kere iki dört, elde var Ayten. \n",
    "    Bundan böyle dünyada\n",
    "    Aşkın adı Ayten olsun.\n",
    "\n",
    "    Ümit Yaşar Oğuzcan\"\"\")"
   ]
  },
  {
   "cell_type": "code",
   "execution_count": 50,
   "metadata": {},
   "outputs": [
    {
     "name": "stdout",
     "output_type": "stream",
     "text": [
      "r Aytendir tutturmuşum  oh ne iyi\n",
      "    Aytenli içkiler içip sarhoş oluyorum, ne güzel! \n",
      "    Hoşuma gitmiyorsa rengi denizlerin, \n",
      "    Biraz Ayten sürüyorum, güzelleşiyor. \n",
      "    Şarkılar söylüyorum, \n",
      "    Şiirler yazıyorum Ayten üstüne. \n",
      "    Saatim her zaman Aytene beş var \n",
      "    Ya da Ayteni beş geçiyor. \n",
      "    Ne yana baksam gördüğüm o, \n",
      "    Gözümü yumsam aklımdan Ayten geçiyor.\n",
      "\n",
      "    Bana sorarsanız mevsimlerden Aytendeyiz, \n",
      "    Günlerden Aytenertesidir. \n",
      "    Odur gün gün beni yaşatan. \n",
      "    Onun kokusu sarmıştır sokakları, \n",
      "    Onun gözleridir şafakta gördüğüm\n",
      "    Akşam kızıllığında onun dudakları.\n",
      "    \n",
      "    Başka kadını övmeyin yanımda, gücenirim. \n",
      "    Ayteni övecekseniz ne alâ, oturabilirsiniz.\n",
      "    Bir kadeh de sizinle içeriz, Aytenli\n",
      "    İki laf ederiz. \n",
      "    Onu siz de seversiniz benim gibi.\n",
      "\n",
      "    Ama yağma yok Ayteni size bırakmam. \n",
      "    Alın tek kat elbisemi size vereyim, \n",
      "    Cebimde bir on liram var \n",
      "    Onu da alın gerekirse. \n",
      "    Ben Ayteni düşünürüm, üşümem. \n",
      "    Üç kere adını tekrarlarım, karnım doyar. \n",
      "    Parasızlık da bir şey mi? \n",
      "    Ölüm bile kötü değil Aytensizlik kadar. \n",
      "\n",
      "    Ona uğramayan gemiler batsın, \n",
      "    Ondan geçmeyen trenler devrilsin, \n",
      "    Onu sevmeyen yürek taş kesilsin, \n",
      "    Kapansın onu görmeyen gözler, \n",
      "    Onu övmeyen diller kurusun. \n",
      "    İki kere iki dört, elde var Ayten. \n",
      "    Bundan böyle dünyada\n",
      "    Aşkın adı Ayten olsun.\n",
      "\n",
      "    Ümit Yaşar Oğuzcan\n"
     ]
    }
   ],
   "source": [
    "with open(\"siir2.txt\",\"r+\",encoding=\"utf-8\") as dosya:\n",
    "    dosya.write(\"bu metni şiirin başına ekle\\n\")\n",
    "    print(dosya.read())"
   ]
  },
  {
   "cell_type": "code",
   "execution_count": 51,
   "metadata": {},
   "outputs": [],
   "source": [
    "with open(\"siir2.txt\",\"w\",encoding=\"utf-8\") as dosya:\n",
    "    dosya.write(\"\"\"Milyon Kere Ayten\n",
    " \n",
    "    Ben bir Aytendir tutturmuşum  oh ne iyi\n",
    "    Aytenli içkiler içip sarhoş oluyorum, ne güzel! \n",
    "    Hoşuma gitmiyorsa rengi denizlerin, \n",
    "    Biraz Ayten sürüyorum, güzelleşiyor. \n",
    "    Şarkılar söylüyorum, \n",
    "    Şiirler yazıyorum Ayten üstüne. \n",
    "    Saatim her zaman Aytene beş var \n",
    "    Ya da Ayteni beş geçiyor. \n",
    "    Ne yana baksam gördüğüm o, \n",
    "    Gözümü yumsam aklımdan Ayten geçiyor.\n",
    "\n",
    "    Bana sorarsanız mevsimlerden Aytendeyiz, \n",
    "    Günlerden Aytenertesidir. \n",
    "    Odur gün gün beni yaşatan. \n",
    "    Onun kokusu sarmıştır sokakları, \n",
    "    Onun gözleridir şafakta gördüğüm\n",
    "    Akşam kızıllığında onun dudakları.\n",
    "    \n",
    "    Başka kadını övmeyin yanımda, gücenirim. \n",
    "    Ayteni övecekseniz ne alâ, oturabilirsiniz.\n",
    "    Bir kadeh de sizinle içeriz, Aytenli\n",
    "    İki laf ederiz. \n",
    "    Onu siz de seversiniz benim gibi.\n",
    "\n",
    "    Ama yağma yok Ayteni size bırakmam. \n",
    "    Alın tek kat elbisemi size vereyim, \n",
    "    Cebimde bir on liram var \n",
    "    Onu da alın gerekirse. \n",
    "    Ben Ayteni düşünürüm, üşümem. \n",
    "    Üç kere adını tekrarlarım, karnım doyar. \n",
    "    Parasızlık da bir şey mi? \n",
    "    Ölüm bile kötü değil Aytensizlik kadar. \n",
    "\n",
    "    Ona uğramayan gemiler batsın, \n",
    "    Ondan geçmeyen trenler devrilsin, \n",
    "    Onu sevmeyen yürek taş kesilsin, \n",
    "    Kapansın onu görmeyen gözler, \n",
    "    Onu övmeyen diller kurusun. \n",
    "    İki kere iki dört, elde var Ayten. \n",
    "    Bundan böyle dünyada\n",
    "    Aşkın adı Ayten olsun.\n",
    "\n",
    "    Ümit Yaşar Oğuzcan\"\"\")"
   ]
  },
  {
   "cell_type": "code",
   "execution_count": null,
   "metadata": {},
   "outputs": [],
   "source": []
  },
  {
   "cell_type": "code",
   "execution_count": null,
   "metadata": {},
   "outputs": [],
   "source": []
  },
  {
   "cell_type": "code",
   "execution_count": null,
   "metadata": {},
   "outputs": [],
   "source": []
  },
  {
   "cell_type": "code",
   "execution_count": null,
   "metadata": {},
   "outputs": [],
   "source": []
  },
  {
   "cell_type": "code",
   "execution_count": null,
   "metadata": {},
   "outputs": [],
   "source": []
  }
 ],
 "metadata": {
  "kernelspec": {
   "display_name": "Python 3",
   "language": "python",
   "name": "python3"
  },
  "language_info": {
   "codemirror_mode": {
    "name": "ipython",
    "version": 3
   },
   "file_extension": ".py",
   "mimetype": "text/x-python",
   "name": "python",
   "nbconvert_exporter": "python",
   "pygments_lexer": "ipython3",
   "version": "3.11.6"
  }
 },
 "nbformat": 4,
 "nbformat_minor": 2
}
