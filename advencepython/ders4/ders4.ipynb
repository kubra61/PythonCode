{
 "cells": [
  {
   "cell_type": "code",
   "execution_count": 22,
   "metadata": {},
   "outputs": [],
   "source": [
    "class Araba:\n",
    "    def marka(self):\n",
    "        return \"Araba\"\n",
    "    def model(self):\n",
    "        return \"Modeli\"\n",
    "    def hizi(self):\n",
    "        return \"Hizi\"\n",
    "    def kasatipi(self):\n",
    "        return f\"Kasa Tipi {kasa}\"\n",
    "    \n",
    " "
   ]
  },
  {
   "cell_type": "code",
   "execution_count": 23,
   "metadata": {},
   "outputs": [],
   "source": [
    "Araba1 = Araba()\n"
   ]
  },
  {
   "cell_type": "code",
   "execution_count": 24,
   "metadata": {},
   "outputs": [
    {
     "ename": "TypeError",
     "evalue": "Araba.kasatipi() takes 1 positional argument but 2 were given",
     "output_type": "error",
     "traceback": [
      "\u001b[1;31m---------------------------------------------------------------------------\u001b[0m",
      "\u001b[1;31mTypeError\u001b[0m                                 Traceback (most recent call last)",
      "\u001b[1;32mc:\\Users\\kosek\\Desktop\\advencepython\\ders4\\ders4.ipynb Cell 3\u001b[0m line \u001b[0;36m1\n\u001b[1;32m----> <a href='vscode-notebook-cell:/c%3A/Users/kosek/Desktop/advencepython/ders4/ders4.ipynb#W2sZmlsZQ%3D%3D?line=0'>1</a>\u001b[0m \u001b[39mprint\u001b[39m(Araba1\u001b[39m.\u001b[39;49mkasatipi(\u001b[39m\"\u001b[39;49m\u001b[39mSuv\u001b[39;49m\u001b[39m\"\u001b[39;49m)) \n",
      "\u001b[1;31mTypeError\u001b[0m: Araba.kasatipi() takes 1 positional argument but 2 were given"
     ]
    }
   ],
   "source": [
    "print(Araba1.kasatipi(\"Suv\")) "
   ]
  },
  {
   "cell_type": "code",
   "execution_count": 25,
   "metadata": {},
   "outputs": [],
   "source": [
    "per1_isim=\"john\"\n",
    "per1_soyisim=\"Smith\"\n",
    "per1_eposta=\"john.smit@firma.com\"\n",
    "\n",
    "per2_isim=\"Mary\"\n",
    "per2_soyisim=\"Smith\"\n",
    "per2_eposta=\"mary.smith@firma.com\""
   ]
  },
  {
   "cell_type": "code",
   "execution_count": 26,
   "metadata": {},
   "outputs": [
    {
     "name": "stdout",
     "output_type": "stream",
     "text": [
      "john.smit@firma.com\n",
      "mary.smith@firma.com\n"
     ]
    }
   ],
   "source": [
    "print(per1_eposta)\n",
    "print(per2_eposta)"
   ]
  },
  {
   "cell_type": "code",
   "execution_count": 30,
   "metadata": {},
   "outputs": [],
   "source": [
    "def kisi_olustur():\n",
    "    isim=input(\"isim:\")\n",
    "    soyisim=input(\"soyisim:\")\n",
    "    eposta=input=(\"E-Posta:\")\n",
    "    return isim,soyisim,eposta\n",
    "\n"
   ]
  },
  {
   "cell_type": "code",
   "execution_count": 31,
   "metadata": {},
   "outputs": [
    {
     "ename": "UnboundLocalError",
     "evalue": "cannot access local variable 'input' where it is not associated with a value",
     "output_type": "error",
     "traceback": [
      "\u001b[1;31m---------------------------------------------------------------------------\u001b[0m",
      "\u001b[1;31mUnboundLocalError\u001b[0m                         Traceback (most recent call last)",
      "\u001b[1;32mc:\\Users\\kosek\\Desktop\\advencepython\\ders4\\ders4.ipynb Cell 7\u001b[0m line \u001b[0;36m1\n\u001b[1;32m----> <a href='vscode-notebook-cell:/c%3A/Users/kosek/Desktop/advencepython/ders4/ders4.ipynb#X12sZmlsZQ%3D%3D?line=0'>1</a>\u001b[0m per1_isim,per1_soyisim,per1_eposta\u001b[39m=\u001b[39mkisi_olustur()\n\u001b[0;32m      <a href='vscode-notebook-cell:/c%3A/Users/kosek/Desktop/advencepython/ders4/ders4.ipynb#X12sZmlsZQ%3D%3D?line=1'>2</a>\u001b[0m per2_isim,per2_soyisim,per2_eposta\u001b[39m=\u001b[39mkisi_olustur()\n",
      "\u001b[1;32mc:\\Users\\kosek\\Desktop\\advencepython\\ders4\\ders4.ipynb Cell 7\u001b[0m line \u001b[0;36m2\n\u001b[0;32m      <a href='vscode-notebook-cell:/c%3A/Users/kosek/Desktop/advencepython/ders4/ders4.ipynb#X12sZmlsZQ%3D%3D?line=0'>1</a>\u001b[0m \u001b[39mdef\u001b[39;00m \u001b[39mkisi_olustur\u001b[39m():\n\u001b[1;32m----> <a href='vscode-notebook-cell:/c%3A/Users/kosek/Desktop/advencepython/ders4/ders4.ipynb#X12sZmlsZQ%3D%3D?line=1'>2</a>\u001b[0m     isim\u001b[39m=\u001b[39m\u001b[39minput\u001b[39;49m(\u001b[39m\"\u001b[39m\u001b[39misim:\u001b[39m\u001b[39m\"\u001b[39m)\n\u001b[0;32m      <a href='vscode-notebook-cell:/c%3A/Users/kosek/Desktop/advencepython/ders4/ders4.ipynb#X12sZmlsZQ%3D%3D?line=2'>3</a>\u001b[0m     soyisim\u001b[39m=\u001b[39m\u001b[39minput\u001b[39m(\u001b[39m\"\u001b[39m\u001b[39msoyisim:\u001b[39m\u001b[39m\"\u001b[39m)\n\u001b[0;32m      <a href='vscode-notebook-cell:/c%3A/Users/kosek/Desktop/advencepython/ders4/ders4.ipynb#X12sZmlsZQ%3D%3D?line=3'>4</a>\u001b[0m     eposta\u001b[39m=\u001b[39m\u001b[39minput\u001b[39m\u001b[39m=\u001b[39m(\u001b[39m\"\u001b[39m\u001b[39mE-Posta:\u001b[39m\u001b[39m\"\u001b[39m)\n",
      "\u001b[1;31mUnboundLocalError\u001b[0m: cannot access local variable 'input' where it is not associated with a value"
     ]
    }
   ],
   "source": [
    "per1_isim,per1_soyisim,per1_eposta=kisi_olustur()\n",
    "per2_isim,per2_soyisim,per2_eposta=kisi_olustur()"
   ]
  },
  {
   "cell_type": "code",
   "execution_count": 32,
   "metadata": {},
   "outputs": [
    {
     "name": "stdout",
     "output_type": "stream",
     "text": [
      "kişi1:\n",
      "isim: Ayla\n",
      " Soyisim: Meşe\n",
      " Eposta: ayla@email.com\n",
      "kişi2:\n",
      "isim: Ali\n",
      " Soyisim: Demir\n",
      " Eposta: ali@email.com\n"
     ]
    }
   ],
   "source": [
    "class kişi:\n",
    "    def __init__(self,isim,soyisim,eposta):\n",
    "        self.ad=isim\n",
    "        self.soyad=soyisim\n",
    "        self.mail=eposta\n",
    "\n",
    "    def bilgileri_goruntule(self):\n",
    "        return f\"isim: {self.ad}\\n Soyisim: {self.soyad}\\n Eposta: {self.mail}\"  \n",
    "\n",
    "kişi1=kişi(\"Ayla\",\"Meşe\",\"ayla@email.com\")\n",
    "kişi2=kişi(\"Ali\",\"Demir\",\"ali@email.com\")\n",
    "\n",
    "print(\"kişi1:\")\n",
    "print(kişi1.bilgileri_goruntule())\n",
    "print(\"kişi2:\")\n",
    "print(kişi2.bilgileri_goruntule())"
   ]
  },
  {
   "cell_type": "code",
   "execution_count": 33,
   "metadata": {},
   "outputs": [
    {
     "name": "stdout",
     "output_type": "stream",
     "text": [
      "John Smith 50000 john.smith@email.com\n",
      "Aziz Taş 60000 aziz.taş@email.com\n"
     ]
    }
   ],
   "source": [
    "class Personel:\n",
    "    def __init__(self,isim,soyisim,maas):\n",
    "        self.ad=isim\n",
    "        self.soyad=soyisim\n",
    "        self.ucret=maas\n",
    "        self.eposta= f\"{isim.lower()}.{soyisim.lower()}@email.com\"\n",
    "\n",
    "person1=Personel(isim=\"John\",soyisim=\"Smith\",maas=50000)\n",
    "person2=Personel(isim=\"Aziz\",soyisim=\"Taş\",maas=60000) \n",
    "\n",
    "print(person1.ad,person1.soyad,person1.ucret,person1.eposta, end=\"\\n\")\n",
    "print(person2.ad,person2.soyad,person2.ucret,person2.eposta, end=\"\\n\")"
   ]
  },
  {
   "cell_type": "code",
   "execution_count": 34,
   "metadata": {},
   "outputs": [
    {
     "name": "stdout",
     "output_type": "stream",
     "text": [
      "Ahmet Yerel\n",
      "45000\n",
      "47250.0\n",
      "Elif Dilek\n",
      "50000\n",
      "52500.0\n",
      "\n",
      "{'ad': 'Ahmet', 'soyad': 'Yerel', 'ucret': 47250.0, 'eposta': 'ahmet.yerel@email.com'}\n",
      "{'ad': 'Elif', 'soyad': 'Dilek', 'ucret': 52500.0, 'eposta': 'elif.dilek@email.com'}\n"
     ]
    }
   ],
   "source": [
    "class Personel:\n",
    "    zam_orani = 1.05\n",
    "    def __init__(self, isim, soyisim, maas):\n",
    "        self.ad = isim\n",
    "        self.soyad = soyisim\n",
    "        self.ucret = maas\n",
    "        self.eposta = f\"{isim.lower()}.{soyisim.lower()}@email.com\"\n",
    "\n",
    "    def tam_isim(self):\n",
    "        return f\"{self.ad} {self.soyad}\"\n",
    "    \n",
    "    def zam_uygula(self):\n",
    "        self.ucret = self.ucret * self.zam_orani\n",
    "\n",
    "per1 = Personel(\"Ahmet\", \"Yerel\", 45000)\n",
    "per2 = Personel(\"Elif\", \"Dilek\", 50000)\n",
    "\n",
    "print(per1.tam_isim())\n",
    "print(per1.ucret)\n",
    "per1.zam_uygula()\n",
    "print(per1.ucret)\n",
    "\n",
    "print(per2.tam_isim())\n",
    "print(per2.ucret)\n",
    "per2.zam_uygula()\n",
    "print(per2.ucret)\n",
    "print()\n",
    "print(per1.__dict__)\n",
    "print(per2.__dict__)"
   ]
  },
  {
   "cell_type": "code",
   "execution_count": 35,
   "metadata": {},
   "outputs": [
    {
     "name": "stdout",
     "output_type": "stream",
     "text": [
      "0\n",
      "2\n"
     ]
    }
   ],
   "source": [
    "class Personel:\n",
    "    zam_orani = 1.05\n",
    "    personel_sayisi = 0\n",
    "\n",
    "    def __init__(self, isim, soyisim, maas):\n",
    "        self.ad = isim\n",
    "        self.soyad = soyisim\n",
    "        self.ucret = maas\n",
    "        self.eposta = f\"{isim.lower()}.{soyisim.lower()}@email.com\"\n",
    "\n",
    "        Personel.personel_sayisi += 1\n",
    "\n",
    "    def tam_isim(self):\n",
    "        return f\"{self.ad} {self.soyad}\"\n",
    "    \n",
    "    def zam_uygula(self):\n",
    "        self.ucret = self.ucret * self.zam_orani\n",
    "        return self.ucret\n",
    "    \n",
    "print(Personel.personel_sayisi)\n",
    "\n",
    "per1 = Personel(\"Ahmet\", \"Yerel\", 45000)\n",
    "per2 = Personel(\"Elif\", \"Dilek\", 50000)\n",
    "\n",
    "print(Personel.personel_sayisi)"
   ]
  },
  {
   "cell_type": "code",
   "execution_count": null,
   "metadata": {},
   "outputs": [],
   "source": [
    "class programlamadili:\n",
    "    def __init__(self,adi,yaratici,populerlik):\n",
    "        self.adi=adi\n",
    "        self.yaratici=yaratici\n",
    "        self.populerlik=populerlik\n",
    "\n",
    "    def bilgileri_goster(self):\n",
    "        print(\"program dili bilgileri:\")\n",
    "        print(f\"adı:{self.adi}\")\n",
    "        print(f\"yaratici:{self.yaratici}\")\n",
    "        print(f\"popülerlik:{self.populerlik}\")\n",
    "\n",
    "class muzikensturmani:\n",
    "    def __init__(self,adi,turu,calma_sekli):\n",
    "        self.adi=adi\n",
    "        self.turu=turu\n",
    "        self.calma_sekli=calma_sekli\n",
    "\n",
    "    def bilgileri_goster(self):\n",
    "        print(\"müzik enstürmani bilgileri:\")\n",
    "        print(f\"adi:{self.adi}\")\n",
    "        print(f\"türü:{self.turu}\")\n",
    "        print(f\"çalma şekli:{self.calma_sekli}\")\n",
    "            \n",
    "            \n"
   ]
  },
  {
   "cell_type": "code",
   "execution_count": 1,
   "metadata": {},
   "outputs": [
    {
     "name": "stdout",
     "output_type": "stream",
     "text": [
      "Neil Arstrong, Apollo Kapsülü ile uzaya çıkıyor.\n",
      "Neil Arstrong, Ay Modülü ile uzaya çıkıyor.\n",
      "\n",
      "Elon Musk, Crew Dragon ile uzaya çıkıyor.\n",
      "Elon Musk, UZay Yürüyüşü Ekipmanları ile uzaya çıkıyor.\n",
      "\n"
     ]
    }
   ],
   "source": [
    "class Astronot:\n",
    "    def __init__(self, ad, uzay_araclari):\n",
    "        self.ad = ad\n",
    "        self.uzay_araclari = uzay_araclari\n",
    "\n",
    "    def uzaya_cik(self):\n",
    "        for arac in self.uzay_araclari:\n",
    "            print(f\"{self.ad}, {arac} ile uzaya çıkıyor.\")\n",
    "\n",
    "class ApolloAstronot(Astronot):\n",
    "    def __init__(self, ad):\n",
    "        super().__init__(ad, [\"Apollo Kapsülü\", \"Ay Modülü\"])\n",
    "\n",
    "class SpaceXAstronot(Astronot):\n",
    "    def __init__(self, ad):\n",
    "        super().__init__(ad, [\"Crew Dragon\", \"UZay Yürüyüşü Ekipmanları\"])\n",
    "\n",
    "\n",
    "if __name__ == \"__main__\":\n",
    "    apollo_astronot = ApolloAstronot(\"Neil Arstrong\")\n",
    "    spacex_astronot = SpaceXAstronot(\"Elon Musk\")\n",
    "\n",
    "    astronotlar = [apollo_astronot, spacex_astronot]\n",
    "\n",
    "\n",
    "    for astronot in astronotlar:\n",
    "        astronot.uzaya_cik()\n",
    "        print()"
   ]
  },
  {
   "cell_type": "code",
   "execution_count": 3,
   "metadata": {},
   "outputs": [
    {
     "name": "stdout",
     "output_type": "stream",
     "text": [
      "20\n"
     ]
    }
   ],
   "source": [
    "# soyut veri tipleri\n",
    "\n",
    "class stack:\n",
    "    def __init__(self):\n",
    "        self.items=[]\n",
    "\n",
    "    def push(self,item):\n",
    "        return self.items.append(item)\n",
    "\n",
    "    def pop(self):\n",
    "        return self.items.pop()\n",
    "\n",
    "stack=stack()\n",
    "stack.push(10)\n",
    "stack.push(20)\n",
    "print(stack.pop())        "
   ]
  },
  {
   "cell_type": "code",
   "execution_count": 6,
   "metadata": {},
   "outputs": [
    {
     "name": "stdout",
     "output_type": "stream",
     "text": [
      "20\n"
     ]
    }
   ],
   "source": [
    "# soyut sınıflar\n",
    "\n",
    "from abc import ABC, abstractclassmethod\n",
    "\n",
    "class shape(ABC):\n",
    "    @abstractclassmethod\n",
    "    def area(self): \n",
    "        pass\n",
    "\n",
    "class ractangle(shape):\n",
    "    def __init__(self, width, height):\n",
    "        self.width = width\n",
    "        self.height = height\n",
    "\n",
    "    def area(self):\n",
    "        return self.width * self.height\n",
    "\n",
    "ractangle=ractangle(4,5)\n",
    "print(ractangle.area())        \n"
   ]
  },
  {
   "cell_type": "code",
   "execution_count": null,
   "metadata": {},
   "outputs": [],
   "source": [
    "from abc import ABC, abstractclassmethod\n",
    "\n",
    "class urun(ABC):\n",
    "    def __init__(self,ad,fiyat):\n",
    "        self.ad=ad\n",
    "        self.fiyat=fiyat\n",
    "\n",
    "    @abstractclassmethod\n",
    "    def stok_durumu(self):\n",
    "        pass\n",
    "\n",
    "    @abstractclassmethod\n",
    "    def stok_guncelle(self,miktar):\n",
    "        pass\n",
    "class elektronik(urun):\n",
    "    def __init__(self, ad, fiyat):\n",
    "        super().__init__(ad, fiyat,stok)\n",
    "        self.stok=stok\n",
    "\n",
    "    def stok_durumu(self):\n",
    "        if self._stok > 0:\n",
    "            print(f\"{self.ad} ürününden {self._stok} adet stokta bulunmaktadir\")\n",
    "        else:\n",
    "            print(f\"{self.ad} ürünü stokta yoktur\")\n",
    "    def stok_guncelle(self, miktar):\n",
    "        self._stok += miktar\n",
    "        print(f\"{self.ad} ürünün stok güncellemesi yapıldı. Yeni stok: {self.stok}\")\n",
    "\n",
    "elektronik_urun = elektroniklektronik(\"Televizyon\", 40000, 10)\n",
    "gida_urun = gida(\"Meyve\", 40, 50)\n",
    "\n",
    "elektronik_urun.stok_durumu()\n",
    "elektronik_urun.stok_guncelle(5)\n",
    "print()\n",
    "gida_urun.stok_durumu()\n",
    "gida_urun.stok_guncelle(-10)      "
   ]
  },
  {
   "cell_type": "code",
   "execution_count": 7,
   "metadata": {},
   "outputs": [
    {
     "name": "stdout",
     "output_type": "stream",
     "text": [
      "Televizyon ürününden 10 adet stokta bulunmaktadır\n",
      "Televizyon ürünün stok güncellemesi yapıldı. Yeni stok: 15\n",
      "\n",
      "Meyve ürününden 50 adet stokta bulunmaktadır\n",
      "Meyve ürünün stok güncellemesi yapıldı. Yeni stok: 40\n"
     ]
    }
   ],
   "source": [
    "from abc import ABC, abstractmethod\n",
    "\n",
    "class Urun(ABC):\n",
    "    def __init__(self, ad, fiyat):\n",
    "        self.ad = ad\n",
    "        self.fiyat = fiyat\n",
    "\n",
    "    @abstractmethod\n",
    "    def stok_durumu(self):\n",
    "        pass\n",
    "\n",
    "    @abstractmethod\n",
    "    def stok_guncelle(self, miktar):\n",
    "        pass\n",
    "\n",
    "class Elektronik(Urun):\n",
    "    def __init__(self, ad, fiyat, stok):\n",
    "        super().__init__(ad, fiyat)\n",
    "        self.stok = stok\n",
    "\n",
    "    def stok_durumu(self):\n",
    "        if self.stok > 0:\n",
    "            print(f\"{self.ad} ürününden {self.stok} adet stokta bulunmaktadır\")\n",
    "        else:\n",
    "            print(f\"{self.ad} ürünü stokta yoktur.\")\n",
    "\n",
    "    def stok_guncelle(self, miktar):\n",
    "        self.stok += miktar\n",
    "        print(f\"{self.ad} ürünün stok güncellemesi yapıldı. Yeni stok: {self.stok}\")\n",
    "\n",
    "\n",
    "class Gida(Urun):\n",
    "    def __init__(self, ad, fiyat, stok):\n",
    "        super().__init__(ad, fiyat)\n",
    "        self.stok = stok\n",
    "\n",
    "    def stok_durumu(self):\n",
    "        if self.stok > 0:\n",
    "            print(f\"{self.ad} ürününden {self.stok} adet stokta bulunmaktadır\")\n",
    "        else:\n",
    "            print(f\"{self.ad} ürünü stokta yoktur.\")\n",
    "\n",
    "    def stok_guncelle(self, miktar):\n",
    "        self.stok += miktar\n",
    "        print(f\"{self.ad} ürünün stok güncellemesi yapıldı. Yeni stok: {self.stok}\")\n",
    "\n",
    "elektronik_urun = Elektronik(\"Televizyon\", 40000, 10)\n",
    "gida_urun = Gida(\"Meyve\", 40, 50)\n",
    "\n",
    "elektronik_urun.stok_durumu()\n",
    "elektronik_urun.stok_guncelle(5)\n",
    "print()\n",
    "gida_urun.stok_durumu()\n",
    "gida_urun.stok_guncelle(-10)"
   ]
  },
  {
   "cell_type": "code",
   "execution_count": null,
   "metadata": {},
   "outputs": [],
   "source": []
  }
 ],
 "metadata": {
  "kernelspec": {
   "display_name": "Python 3",
   "language": "python",
   "name": "python3"
  },
  "language_info": {
   "codemirror_mode": {
    "name": "ipython",
    "version": 3
   },
   "file_extension": ".py",
   "mimetype": "text/x-python",
   "name": "python",
   "nbconvert_exporter": "python",
   "pygments_lexer": "ipython3",
   "version": "3.11.6"
  }
 },
 "nbformat": 4,
 "nbformat_minor": 2
}
