{
 "cells": [
  {
   "cell_type": "code",
   "execution_count": 1,
   "metadata": {},
   "outputs": [
    {
     "name": "stdout",
     "output_type": "stream",
     "text": [
      "120\n"
     ]
    }
   ],
   "source": [
    "def factorial(number):\n",
    "    if not isinstance(number,int):\n",
    "        raise TypeError(\"number must be an integer\")\n",
    "    \n",
    "    if not number>=0:\n",
    "        raise ValueError(\"number must be zero or positive\")\n",
    "    \n",
    "    def inner_factorial(number):\n",
    "        if number <= 1:\n",
    "            return 1\n",
    "        else:\n",
    "            return number*inner_factorial(number-1)\n",
    "        \n",
    "    return inner_factorial(number)\n",
    "\n",
    "try:\n",
    "    print(factorial(int(input(\"bir sayi giriniz: \"))))\n",
    "\n",
    "except Exception as ex:\n",
    "    print(ex)    "
   ]
  },
  {
   "cell_type": "code",
   "execution_count": 2,
   "metadata": {},
   "outputs": [
    {
     "ename": "TypeError",
     "evalue": "'NoneType' object is not callable",
     "output_type": "error",
     "traceback": [
      "\u001b[1;31m---------------------------------------------------------------------------\u001b[0m",
      "\u001b[1;31mTypeError\u001b[0m                                 Traceback (most recent call last)",
      "\u001b[1;32mc:\\Users\\kosek\\Desktop\\advencepython\\ders2.1.ipynb Cell 2\u001b[0m line \u001b[0;36m1\n\u001b[0;32m      <a href='vscode-notebook-cell:/c%3A/Users/kosek/Desktop/advencepython/ders2.1.ipynb#W3sZmlsZQ%3D%3D?line=6'>7</a>\u001b[0m         \u001b[39mreturn\u001b[39;00m inner\n\u001b[0;32m      <a href='vscode-notebook-cell:/c%3A/Users/kosek/Desktop/advencepython/ders2.1.ipynb#W3sZmlsZQ%3D%3D?line=8'>9</a>\u001b[0m user1\u001b[39m=\u001b[39m yetki_sorgula(\u001b[39m\"\u001b[39m\u001b[39madmin paneli\u001b[39m\u001b[39m\"\u001b[39m)\n\u001b[1;32m---> <a href='vscode-notebook-cell:/c%3A/Users/kosek/Desktop/advencepython/ders2.1.ipynb#W3sZmlsZQ%3D%3D?line=10'>11</a>\u001b[0m \u001b[39mprint\u001b[39m(user1(\u001b[39m\"\u001b[39;49m\u001b[39mAdmin\u001b[39;49m\u001b[39m\"\u001b[39;49m))\n\u001b[0;32m     <a href='vscode-notebook-cell:/c%3A/Users/kosek/Desktop/advencepython/ders2.1.ipynb#W3sZmlsZQ%3D%3D?line=11'>12</a>\u001b[0m \u001b[39mprint\u001b[39m(user1(\u001b[39m\"\u001b[39m\u001b[39mUser\u001b[39m\u001b[39m\"\u001b[39m))\n",
      "\u001b[1;31mTypeError\u001b[0m: 'NoneType' object is not callable"
     ]
    }
   ],
   "source": [
    "def yetki_sorgula(page):\n",
    "    def inner(role):\n",
    "        if role==\"Admin\":\n",
    "            return f\"{role} rolünün {page} sayfasına erişimi vardır.\"\n",
    "        else:\n",
    "            return f\"{role} rolünün {page} sayfasına erişimi yoktur.\"\n",
    "            return inner\n",
    "    \n",
    "user1= yetki_sorgula(\"admin paneli\")\n",
    "\n",
    "print(user1(\"Admin\"))\n",
    "print(user1(\"User\"))"
   ]
  },
  {
   "cell_type": "code",
   "execution_count": null,
   "metadata": {},
   "outputs": [],
   "source": []
  },
  {
   "cell_type": "code",
   "execution_count": null,
   "metadata": {},
   "outputs": [],
   "source": []
  },
  {
   "cell_type": "code",
   "execution_count": null,
   "metadata": {},
   "outputs": [],
   "source": []
  },
  {
   "cell_type": "code",
   "execution_count": null,
   "metadata": {},
   "outputs": [],
   "source": []
  },
  {
   "cell_type": "code",
   "execution_count": null,
   "metadata": {},
   "outputs": [],
   "source": []
  }
 ],
 "metadata": {
  "kernelspec": {
   "display_name": "Python 3",
   "language": "python",
   "name": "python3"
  },
  "language_info": {
   "codemirror_mode": {
    "name": "ipython",
    "version": 3
   },
   "file_extension": ".py",
   "mimetype": "text/x-python",
   "name": "python",
   "nbconvert_exporter": "python",
   "pygments_lexer": "ipython3",
   "version": "3.11.6"
  }
 },
 "nbformat": 4,
 "nbformat_minor": 2
}
